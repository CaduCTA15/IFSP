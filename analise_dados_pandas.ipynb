{
 "cells": [
  {
   "cell_type": "markdown",
   "id": "a68694b1",
   "metadata": {},
   "source": [
    "# Análise de Dados com Pandas\n",
    "\n",
    "Este caderno contém as seguintes etapas:\n",
    "\n",
    "1. Importação do pacote `pandas` e leitura de um conjunto de dados.\n",
    "2. Visualização geral do DataFrame com `.info()`.\n",
    "3. Estatísticas descritivas com `.describe()`.\n"
   ]
  },
  {
   "cell_type": "code",
   "execution_count": null,
   "id": "3fc895e7",
   "metadata": {},
   "outputs": [],
   "source": [
    "import pandas as pd\n",
    "\n",
    "# Carregar dataset Titanic diretamente de uma URL\n",
    "url = \"https://raw.githubusercontent.com/datasciencedojo/datasets/master/titanic.csv\"\n",
    "df = pd.read_csv(url)\n"
   ]
  },
  {
   "cell_type": "code",
   "execution_count": null,
   "id": "328a2a88",
   "metadata": {},
   "outputs": [],
   "source": [
    "df.info()"
   ]
  },
  {
   "cell_type": "code",
   "execution_count": null,
   "id": "a84dc459",
   "metadata": {},
   "outputs": [],
   "source": [
    "df.describe()"
   ]
  }
 ],
 "metadata": {},
 "nbformat": 4,
 "nbformat_minor": 5
}
